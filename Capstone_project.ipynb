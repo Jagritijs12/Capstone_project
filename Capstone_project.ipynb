{
  "nbformat": 4,
  "nbformat_minor": 0,
  "metadata": {
    "colab": {
      "provenance": [],
      "authorship_tag": "ABX9TyMP5i7jj0F7k7VEFs8AMsJX",
      "include_colab_link": true
    },
    "kernelspec": {
      "name": "python3",
      "display_name": "Python 3"
    },
    "language_info": {
      "name": "python"
    }
  },
  "cells": [
    {
      "cell_type": "markdown",
      "metadata": {
        "id": "view-in-github",
        "colab_type": "text"
      },
      "source": [
        "<a href=\"https://colab.research.google.com/github/Jagritijs12/Capstone_project/blob/main/Capstone_project.ipynb\" target=\"_parent\"><img src=\"https://colab.research.google.com/assets/colab-badge.svg\" alt=\"Open In Colab\"/></a>"
      ]
    },
    {
      "cell_type": "markdown",
      "source": [
        "Document analysis using TF-IDF and Logistic Regression"
      ],
      "metadata": {
        "id": "KakqPFsY5OlW"
      }
    },
    {
      "cell_type": "code",
      "source": [
        "\n",
        "# Load the data\n",
        "df = pd.read_csv('/content/Malware dataset.csv')\n",
        "print(\"📄 Dataset loaded successfully!\")\n",
        "print(df.head())\n",
        "\n",
        "# STEP 4: Assign correct columns for text + labels\n",
        "# Based on the actual file, update these if needed:\n",
        "# Example: if you see 'message' and 'label' use them\n",
        "text_column = df.columns[0]\n",
        "label_column = df.columns[2]\n",
        "\n",
        "from sklearn.preprocessing import LabelEncoder\n",
        "\n",
        "# Convert labels to numerical values\n",
        "label_encoder = LabelEncoder()\n",
        "df[label_column] = label_encoder.fit_transform(df[label_column])\n",
        "\n",
        "X = df[df.drop(columns=[text_column,label_column],axis=1).columns]\n",
        "y = df[label_column]\n",
        "print(y.head())\n",
        "print(X.head())\n",
        "\n",
        "# STEP 5: Train/test split\n",
        "from sklearn.model_selection import train_test_split\n",
        "X_train, X_test, y_train, y_test = train_test_split(X, y, test_size=0.2, random_state=42)\n",
        "\n",
        "from sklearn.ensemble import RandomForestClassifier\n",
        "\n",
        "model=RandomForestClassifier(n_estimators=100,random_state=42)\n",
        "\n",
        "# Train the model\n",
        "model.fit(X_train, y_train)\n",
        "\n",
        "# STEP 7: Evaluate\n",
        "from sklearn.metrics import classification_report, accuracy_score\n",
        "\n",
        "y_pred = model.predict(X_test)\n",
        "print(\"\\n✅ Accuracy:\", accuracy_score(y_test, y_pred))\n",
        "print(\"\\n📊 Classification Report:\\n\", classification_report(y_test, y_pred))\n",
        "\n",
        "# STEP 8: Try on your own examples\n",
        "custom_docs = [\n",
        "    \"This document contains a malicious script that should be removed.\",\n",
        "    \"Your invoice for last month's cloud usage is attached.\",\n",
        "    \"Warning: ransomware detected in attachment.\"\n",
        "]\n",
        "\n",
        "'''custom_preds = model.predict(custom_docs)\n",
        "for doc, label in zip(custom_docs, custom_preds):\n",
        "    print(f\"\\n📄 \\\"{doc}\\\"\\n➤ Prediction: {label}\")'''\n"
      ],
      "metadata": {
        "colab": {
          "base_uri": "https://localhost:8080/",
          "height": 1000
        },
        "id": "A_wTjGqEN0Cj",
        "outputId": "9f4f0d6f-4ed6-49b8-b5a6-bbde3e8e2635"
      },
      "execution_count": 18,
      "outputs": [
        {
          "output_type": "stream",
          "name": "stdout",
          "text": [
            "📄 Dataset loaded successfully!\n",
            "                                                hash  millisecond  \\\n",
            "0  42fb5e2ec009a05ff5143227297074f1e9c6c3ebb9c914...            0   \n",
            "1  42fb5e2ec009a05ff5143227297074f1e9c6c3ebb9c914...            1   \n",
            "2  42fb5e2ec009a05ff5143227297074f1e9c6c3ebb9c914...            2   \n",
            "3  42fb5e2ec009a05ff5143227297074f1e9c6c3ebb9c914...            3   \n",
            "4  42fb5e2ec009a05ff5143227297074f1e9c6c3ebb9c914...            4   \n",
            "\n",
            "  classification  state  usage_counter        prio  static_prio  normal_prio  \\\n",
            "0        malware      0              0  3069378560        14274            0   \n",
            "1        malware      0              0  3069378560        14274            0   \n",
            "2        malware      0              0  3069378560        14274            0   \n",
            "3        malware      0              0  3069378560        14274            0   \n",
            "4        malware      0              0  3069378560        14274            0   \n",
            "\n",
            "   policy  vm_pgoff  ...  nivcsw  min_flt  maj_flt  fs_excl_counter  \\\n",
            "0       0         0  ...       0        0      120                0   \n",
            "1       0         0  ...       0        0      120                0   \n",
            "2       0         0  ...       0        0      120                0   \n",
            "3       0         0  ...       0        0      120                0   \n",
            "4       0         0  ...       0        0      120                0   \n",
            "\n",
            "         lock   utime  stime  gtime  cgtime  signal_nvcsw  \n",
            "0  3204448256  380690      4      0       0             0  \n",
            "1  3204448256  380690      4      0       0             0  \n",
            "2  3204448256  380690      4      0       0             0  \n",
            "3  3204448256  380690      4      0       0             0  \n",
            "4  3204448256  380690      4      0       0             0  \n",
            "\n",
            "[5 rows x 35 columns]\n",
            "0    1\n",
            "1    1\n",
            "2    1\n",
            "3    1\n",
            "4    1\n",
            "Name: classification, dtype: int64\n",
            "   millisecond  state  usage_counter        prio  static_prio  normal_prio  \\\n",
            "0            0      0              0  3069378560        14274            0   \n",
            "1            1      0              0  3069378560        14274            0   \n",
            "2            2      0              0  3069378560        14274            0   \n",
            "3            3      0              0  3069378560        14274            0   \n",
            "4            4      0              0  3069378560        14274            0   \n",
            "\n",
            "   policy  vm_pgoff  vm_truncate_count  task_size  ...  nivcsw  min_flt  \\\n",
            "0       0         0              13173          0  ...       0        0   \n",
            "1       0         0              13173          0  ...       0        0   \n",
            "2       0         0              13173          0  ...       0        0   \n",
            "3       0         0              13173          0  ...       0        0   \n",
            "4       0         0              13173          0  ...       0        0   \n",
            "\n",
            "   maj_flt  fs_excl_counter        lock   utime  stime  gtime  cgtime  \\\n",
            "0      120                0  3204448256  380690      4      0       0   \n",
            "1      120                0  3204448256  380690      4      0       0   \n",
            "2      120                0  3204448256  380690      4      0       0   \n",
            "3      120                0  3204448256  380690      4      0       0   \n",
            "4      120                0  3204448256  380690      4      0       0   \n",
            "\n",
            "   signal_nvcsw  \n",
            "0             0  \n",
            "1             0  \n",
            "2             0  \n",
            "3             0  \n",
            "4             0  \n",
            "\n",
            "[5 rows x 33 columns]\n",
            "\n",
            "✅ Accuracy: 1.0\n",
            "\n",
            "📊 Classification Report:\n",
            "               precision    recall  f1-score   support\n",
            "\n",
            "           0       1.00      1.00      1.00     10030\n",
            "           1       1.00      1.00      1.00      9970\n",
            "\n",
            "    accuracy                           1.00     20000\n",
            "   macro avg       1.00      1.00      1.00     20000\n",
            "weighted avg       1.00      1.00      1.00     20000\n",
            "\n"
          ]
        },
        {
          "output_type": "execute_result",
          "data": {
            "text/plain": [
              "'custom_preds = model.predict(custom_docs)\\nfor doc, label in zip(custom_docs, custom_preds):\\n    print(f\"\\n📄 \"{doc}\"\\n➤ Prediction: {label}\")'"
            ],
            "application/vnd.google.colaboratory.intrinsic+json": {
              "type": "string"
            }
          },
          "metadata": {},
          "execution_count": 18
        }
      ]
    }
  ]
}